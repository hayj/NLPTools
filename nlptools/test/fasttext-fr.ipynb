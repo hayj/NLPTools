{
 "cells": [
  {
   "cell_type": "code",
   "execution_count": 1,
   "metadata": {},
   "outputs": [],
   "source": [
    "# wget https://dl.fbaipublicfiles.com/fasttext/vectors-crawl/cc.fr.300.bin.gz\n",
    "# gunzip cc.fr.300.bin.gz\n",
    "import gensim\n",
    "import re\n",
    "model = gensim.models.fasttext.load_facebook_vectors('/home/hayj/Downloads/cc.fr.300.bin')"
   ]
  },
  {
   "cell_type": "code",
   "execution_count": 2,
   "metadata": {},
   "outputs": [],
   "source": [
    "# See https://radimrehurek.com/gensim/models/keyedvectors.html#gensim.models.keyedvectors.FastTextKeyedVectors\n",
    "def synonymes(model, words):\n",
    "    if not isinstance(words, list):\n",
    "        words = [words]\n",
    "    for i in range(len(words)):\n",
    "        words[i] = words[i].lower()\n",
    "    mostsims = model.most_similar(positive=words)\n",
    "    results = []\n",
    "    for w, s in mostsims:\n",
    "        if re.search(\"[^a-z]\", w) is None:\n",
    "            results.append(w)\n",
    "    return results"
   ]
  },
  {
   "cell_type": "code",
   "execution_count": 3,
   "metadata": {},
   "outputs": [
    {
     "name": "stdout",
     "output_type": "stream",
     "text": [
      "['trumps', 'obama', 'clinton', 'trumpiste']\n",
      "['femme', 'hommme', 'individu']\n",
      "['fille', 'homme', 'jeune', 'fillette', 'dame']\n",
      "['museau', 'menton', 'doigt', 'repointe', 'naseau', 'narines']\n"
     ]
    }
   ],
   "source": [
    "print(synonymes(model, \"Trump\"))\n",
    "print(synonymes(model, \"HOMME\"))\n",
    "print(synonymes(model, \"femme\"))\n",
    "print(synonymes(model, \"nez\"))"
   ]
  },
  {
   "cell_type": "code",
   "execution_count": 40,
   "metadata": {},
   "outputs": [
    {
     "name": "stdout",
     "output_type": "stream",
     "text": [
      "['arabes', 'arabophone', 'alphabet']\n"
     ]
    }
   ],
   "source": [
    "print(synonymes(model, [\"coder\", \"arabe\", ]))"
   ]
  },
  {
   "cell_type": "code",
   "execution_count": 36,
   "metadata": {},
   "outputs": [
    {
     "name": "stdout",
     "output_type": "stream",
     "text": [
      "['pythons', 'molure', 'malayopython', 'bash']\n"
     ]
    }
   ],
   "source": [
    "print(synonymes(model, [\"python\"]))"
   ]
  },
  {
   "cell_type": "code",
   "execution_count": 37,
   "metadata": {},
   "outputs": [
    {
     "name": "stdout",
     "output_type": "stream",
     "text": [
      "['policiers', 'flic', 'gendarme', 'police', 'flics', 'policie', 'polar']\n"
     ]
    }
   ],
   "source": [
    "print(synonymes(model, \"policier\"))"
   ]
  },
  {
   "cell_type": "code",
   "execution_count": 14,
   "metadata": {},
   "outputs": [
    {
     "name": "stdout",
     "output_type": "stream",
     "text": [
      "['mohammed', 'eglise', 'basilique']\n"
     ]
    }
   ],
   "source": [
    "print(synonymes(model, [\"mohamed\", \"église\"]))"
   ]
  },
  {
   "cell_type": "code",
   "execution_count": 41,
   "metadata": {},
   "outputs": [
    {
     "ename": "AttributeError",
     "evalue": "'FastTextKeyedVectors' object has no attribute 'index_to_doctag'",
     "output_type": "error",
     "traceback": [
      "\u001b[0;31m---------------------------------------------------------------------------\u001b[0m",
      "\u001b[0;31mAttributeError\u001b[0m                            Traceback (most recent call last)",
      "\u001b[0;32m<ipython-input-41-1502176bedf1>\u001b[0m in \u001b[0;36m<module>\u001b[0;34m\u001b[0m\n\u001b[0;32m----> 1\u001b[0;31m \u001b[0mmodel\u001b[0m\u001b[0;34m.\u001b[0m\u001b[0mindex_to_doctag\u001b[0m\u001b[0;34m(\u001b[0m\u001b[0;36m0\u001b[0m\u001b[0;34m)\u001b[0m\u001b[0;34m\u001b[0m\u001b[0;34m\u001b[0m\u001b[0m\n\u001b[0m",
      "\u001b[0;31mAttributeError\u001b[0m: 'FastTextKeyedVectors' object has no attribute 'index_to_doctag'"
     ]
    }
   ],
   "source": [
    "model.index_to_doctag(0)"
   ]
  },
  {
   "cell_type": "code",
   "execution_count": null,
   "metadata": {},
   "outputs": [],
   "source": []
  }
 ],
 "metadata": {
  "kernelspec": {
   "display_name": "Python 3",
   "language": "python",
   "name": "python3"
  },
  "language_info": {
   "codemirror_mode": {
    "name": "ipython",
    "version": 3
   },
   "file_extension": ".py",
   "mimetype": "text/x-python",
   "name": "python",
   "nbconvert_exporter": "python",
   "pygments_lexer": "ipython3",
   "version": "3.6.8"
  }
 },
 "nbformat": 4,
 "nbformat_minor": 2
}
